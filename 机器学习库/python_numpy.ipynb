{
 "cells": [
  {
   "cell_type": "code",
   "execution_count": 2,
   "id": "2673f028",
   "metadata": {},
   "outputs": [],
   "source": [
    "import numpy as np"
   ]
  },
  {
   "cell_type": "markdown",
   "id": "b0fc503a",
   "metadata": {},
   "source": [
    "### 1.数组创建函数"
   ]
  },
  {
   "cell_type": "code",
   "execution_count": 3,
   "id": "bd01ac9a",
   "metadata": {},
   "outputs": [
    {
     "data": {
      "text/plain": [
       "array([[1., 0., 0.],\n",
       "       [0., 1., 0.],\n",
       "       [0., 0., 1.]])"
      ]
     },
     "execution_count": 3,
     "metadata": {},
     "output_type": "execute_result"
    }
   ],
   "source": [
    "# 单位矩阵\n",
    "a = np.eye(3)\n",
    "a"
   ]
  },
  {
   "cell_type": "code",
   "execution_count": 4,
   "id": "b4ccb92d",
   "metadata": {},
   "outputs": [
    {
     "data": {
      "text/plain": [
       "array([1, 2, 3])"
      ]
     },
     "execution_count": 4,
     "metadata": {},
     "output_type": "execute_result"
    }
   ],
   "source": [
    "a1 = np.array([1,2,3]) # 普通数组\n",
    "a1"
   ]
  },
  {
   "cell_type": "code",
   "execution_count": 5,
   "id": "24bb684f",
   "metadata": {},
   "outputs": [
    {
     "data": {
      "text/plain": [
       "array([1, 3, 5, 7, 9])"
      ]
     },
     "execution_count": 5,
     "metadata": {},
     "output_type": "execute_result"
    }
   ],
   "source": [
    "a2 = np.arange(1,10,2) # 范围内数组\n",
    "a2"
   ]
  },
  {
   "cell_type": "code",
   "execution_count": 6,
   "id": "1293ae0e",
   "metadata": {},
   "outputs": [
    {
     "data": {
      "text/plain": [
       "array([[1., 1., 1.],\n",
       "       [1., 1., 1.],\n",
       "       [1., 1., 1.]])"
      ]
     },
     "execution_count": 6,
     "metadata": {},
     "output_type": "execute_result"
    }
   ],
   "source": [
    "# 全0 全1 数组\n",
    "a3 = np.zeros((2, 2))\n",
    "a4 = np.ones((3,3))\n",
    "a4"
   ]
  },
  {
   "cell_type": "code",
   "execution_count": 7,
   "id": "b22d222b",
   "metadata": {},
   "outputs": [
    {
     "data": {
      "text/plain": [
       "array([[1.e-323, 0.e+000, 0.e+000],\n",
       "       [0.e+000, 0.e+000, 0.e+000]])"
      ]
     },
     "execution_count": 7,
     "metadata": {},
     "output_type": "execute_result"
    }
   ],
   "source": [
    "# 创建随机未初始化浮点型数组\n",
    "a5 = np.empty((2,3))\n",
    "a5"
   ]
  },
  {
   "cell_type": "code",
   "execution_count": 8,
   "id": "e19c54bf",
   "metadata": {},
   "outputs": [
    {
     "data": {
      "text/plain": [
       "array([ 1.        ,  1.18367347,  1.36734694,  1.55102041,  1.73469388,\n",
       "        1.91836735,  2.10204082,  2.28571429,  2.46938776,  2.65306122,\n",
       "        2.83673469,  3.02040816,  3.20408163,  3.3877551 ,  3.57142857,\n",
       "        3.75510204,  3.93877551,  4.12244898,  4.30612245,  4.48979592,\n",
       "        4.67346939,  4.85714286,  5.04081633,  5.2244898 ,  5.40816327,\n",
       "        5.59183673,  5.7755102 ,  5.95918367,  6.14285714,  6.32653061,\n",
       "        6.51020408,  6.69387755,  6.87755102,  7.06122449,  7.24489796,\n",
       "        7.42857143,  7.6122449 ,  7.79591837,  7.97959184,  8.16326531,\n",
       "        8.34693878,  8.53061224,  8.71428571,  8.89795918,  9.08163265,\n",
       "        9.26530612,  9.44897959,  9.63265306,  9.81632653, 10.        ])"
      ]
     },
     "execution_count": 8,
     "metadata": {},
     "output_type": "execute_result"
    }
   ],
   "source": [
    "# 创建线性间隔数组\n",
    "a6 = np.linspace(1,10, num = 50)\n",
    "a6"
   ]
  },
  {
   "cell_type": "code",
   "execution_count": 9,
   "id": "a6e533b3",
   "metadata": {},
   "outputs": [
    {
     "data": {
      "text/plain": [
       "np.float64(100.0)"
      ]
     },
     "execution_count": 9,
     "metadata": {},
     "output_type": "execute_result"
    }
   ],
   "source": [
    "# 创建对数间隔数组 10的几次方\n",
    "a7 = np.logspace(1,10, num = 10 )\n",
    "a7[1]"
   ]
  },
  {
   "cell_type": "markdown",
   "id": "390735c2",
   "metadata": {},
   "source": [
    "### 2. 数组操作函数"
   ]
  },
  {
   "cell_type": "markdown",
   "id": "9826c827",
   "metadata": {},
   "source": [
    "#### 改变数组形状"
   ]
  },
  {
   "cell_type": "code",
   "execution_count": 10,
   "id": "cecf8d94",
   "metadata": {},
   "outputs": [
    {
     "data": {
      "text/plain": [
       "array([[0, 1, 2],\n",
       "       [3, 4, 5],\n",
       "       [6, 7, 8]])"
      ]
     },
     "execution_count": 10,
     "metadata": {},
     "output_type": "execute_result"
    }
   ],
   "source": [
    "m = np.arange(9).reshape(3,3)\n",
    "m"
   ]
  },
  {
   "cell_type": "markdown",
   "id": "d5a8946c",
   "metadata": {},
   "source": [
    "#### 数组拼接 "
   ]
  },
  {
   "cell_type": "code",
   "execution_count": 11,
   "id": "34e24245",
   "metadata": {},
   "outputs": [
    {
     "name": "stdout",
     "output_type": "stream",
     "text": [
      "[[1 2]\n",
      " [3 4]\n",
      " [5 6]]\n",
      "[[1 2 7]\n",
      " [3 4 8]]\n"
     ]
    }
   ],
   "source": [
    "#  concatenate\n",
    "a = np.array([[1, 2], [3, 4]])\n",
    "b = np.array([[5, 6]])\n",
    "\n",
    "# 沿行方向拼接（默认 axis=0）(3,2)\n",
    "result = np.concatenate((a, b))  # 输出：[[1 2], [3 4], [5 6]]\n",
    "print(result)\n",
    "# 沿列方向拼接（axis=1） (2,3)\n",
    "c = np.array([[7], [8]]) \n",
    "result_col = np.concatenate((a, c), axis=1)  # 输出：[[1 2 7], [3 4 8]]\n",
    "print(result_col)"
   ]
  },
  {
   "cell_type": "code",
   "execution_count": 12,
   "id": "834a0e0d",
   "metadata": {},
   "outputs": [
    {
     "name": "stdout",
     "output_type": "stream",
     "text": [
      "[[1 2]\n",
      " [3 4]\n",
      " [5 6]]\n",
      "[[1 2 7]\n",
      " [3 4 8]]\n"
     ]
    }
   ],
   "source": [
    "# vstack()  hstack()\n",
    "c1 = np.vstack((a, b))  # 垂直拼接（等价于 axis=0）\n",
    "c2 = np.hstack((a, c))  # 水平拼接（等价于 axis=1）\n",
    "print(c1)\n",
    "print(c2)"
   ]
  },
  {
   "cell_type": "code",
   "execution_count": 13,
   "id": "e6048d39",
   "metadata": {},
   "outputs": [
    {
     "data": {
      "text/plain": [
       "array([[1, 2, 3],\n",
       "       [4, 5, 6]])"
      ]
     },
     "execution_count": 13,
     "metadata": {},
     "output_type": "execute_result"
    }
   ],
   "source": [
    "# stack() 沿新维度堆叠数组（新增一个轴）。\n",
    "a = np.array([1, 2, 3])\n",
    "b = np.array([4, 5, 6])\n",
    "c3 = np.stack((a, b), axis=0)\n",
    "c3"
   ]
  },
  {
   "cell_type": "code",
   "execution_count": 14,
   "id": "259c08db",
   "metadata": {},
   "outputs": [
    {
     "data": {
      "text/plain": [
       "array([[[1, 5],\n",
       "        [2, 6]],\n",
       "\n",
       "       [[3, 7],\n",
       "        [4, 8]]])"
      ]
     },
     "execution_count": 14,
     "metadata": {},
     "output_type": "execute_result"
    }
   ],
   "source": [
    "# dstack()  沿深度方向（第三维度）堆叠数组。\n",
    "a = np.array([[1, 2], [3, 4]])\n",
    "b = np.array([[5, 6], [7, 8]])\n",
    "\n",
    "dstack_result = np.dstack((a, b))  # 输出形状：(2, 2, 2)\n",
    "dstack_result"
   ]
  },
  {
   "cell_type": "code",
   "execution_count": 15,
   "id": "74da5941",
   "metadata": {},
   "outputs": [
    {
     "data": {
      "text/plain": [
       "array([[1, 2, 5, 6],\n",
       "       [3, 4, 7, 8]])"
      ]
     },
     "execution_count": 15,
     "metadata": {},
     "output_type": "execute_result"
    }
   ],
   "source": [
    "# np.c_ 按列方向拼接\n",
    "a = np.array([[1, 2], [3, 4]])\n",
    "b = np.array([[5, 6], [7, 8]])\n",
    "c = np.c_[a,b]\n",
    "c"
   ]
  },
  {
   "cell_type": "markdown",
   "id": "73088c22",
   "metadata": {},
   "source": [
    "#### 数组分割"
   ]
  },
  {
   "cell_type": "code",
   "execution_count": 16,
   "id": "452a8fca",
   "metadata": {},
   "outputs": [
    {
     "name": "stdout",
     "output_type": "stream",
     "text": [
      "[[3 4 5]]\n",
      "[array([[0, 1, 2]]), array([[3, 4, 5]]), array([[6, 7, 8]])]\n"
     ]
    }
   ],
   "source": [
    "a = np.split(np.arange(9).reshape(3,3),3)\n",
    "print(a[1])\n",
    "print(a)"
   ]
  },
  {
   "cell_type": "code",
   "execution_count": 17,
   "id": "df55c3f8",
   "metadata": {},
   "outputs": [
    {
     "name": "stdout",
     "output_type": "stream",
     "text": [
      "[[1]\n",
      " [4]\n",
      " [7]]\n",
      "[array([[0],\n",
      "       [3],\n",
      "       [6]]), array([[1],\n",
      "       [4],\n",
      "       [7]]), array([[2],\n",
      "       [5],\n",
      "       [8]])]\n"
     ]
    }
   ],
   "source": [
    "a = np.hsplit(np.arange(9).reshape(3,3),3)\n",
    "print(a[1])\n",
    "print(a)"
   ]
  },
  {
   "cell_type": "code",
   "execution_count": 18,
   "id": "2b9a804d",
   "metadata": {},
   "outputs": [
    {
     "name": "stdout",
     "output_type": "stream",
     "text": [
      "[[3 4 5]]\n",
      "[array([[0, 1, 2]]), array([[3, 4, 5]]), array([[6, 7, 8]])]\n"
     ]
    }
   ],
   "source": [
    "a = np.vsplit(np.arange(9).reshape(3,3),3)\n",
    "print(a[1])\n",
    "print(a)"
   ]
  },
  {
   "cell_type": "markdown",
   "id": "1b8dae1e",
   "metadata": {},
   "source": [
    "#### 按索引取值，赋值"
   ]
  },
  {
   "cell_type": "code",
   "execution_count": 19,
   "id": "00a3bdf0",
   "metadata": {},
   "outputs": [
    {
     "data": {
      "text/plain": [
       "array([0, 1])"
      ]
     },
     "execution_count": 19,
     "metadata": {},
     "output_type": "execute_result"
    }
   ],
   "source": [
    "a = np.arange(10)\n",
    "c = np.take(a,[0,1])\n",
    "c"
   ]
  },
  {
   "cell_type": "code",
   "execution_count": 20,
   "id": "f31354c7",
   "metadata": {},
   "outputs": [
    {
     "data": {
      "text/plain": [
       "array([ 0, -1, -2,  3,  4,  5,  6,  7,  8,  9])"
      ]
     },
     "execution_count": 20,
     "metadata": {},
     "output_type": "execute_result"
    }
   ],
   "source": [
    "np.put(a, [1,2] , [-1,-2])\n",
    "a"
   ]
  },
  {
   "cell_type": "markdown",
   "id": "78a92971",
   "metadata": {},
   "source": [
    "#### 展平操作"
   ]
  },
  {
   "cell_type": "code",
   "execution_count": 21,
   "id": "7c67dd14",
   "metadata": {},
   "outputs": [
    {
     "name": "stdout",
     "output_type": "stream",
     "text": [
      "[[0 1 2]\n",
      " [3 4 5]]\n",
      "[0 1 2 3 4 5]\n"
     ]
    }
   ],
   "source": [
    "# flatten() 改变原数组\n",
    "a =  np.arange(6).reshape(2,3)\n",
    "b = a.flatten()\n",
    "print(a)\n",
    "print(b)"
   ]
  },
  {
   "cell_type": "code",
   "execution_count": 22,
   "id": "782d84af",
   "metadata": {},
   "outputs": [
    {
     "name": "stdout",
     "output_type": "stream",
     "text": [
      "[0 1 2 3 4 5]\n",
      "[[0 1 2]\n",
      " [3 4 5]]\n"
     ]
    }
   ],
   "source": [
    "#  ravel() 不改变原数组\n",
    "c = a.ravel()\n",
    "print(c)\n",
    "print(a)"
   ]
  },
  {
   "cell_type": "markdown",
   "id": "1a21c2a5",
   "metadata": {},
   "source": [
    "### 3. 数学函数"
   ]
  },
  {
   "cell_type": "code",
   "execution_count": 23,
   "id": "87b157da",
   "metadata": {},
   "outputs": [
    {
     "data": {
      "text/plain": [
       "array([1, 2, 3, 4, 5])"
      ]
     },
     "execution_count": 23,
     "metadata": {},
     "output_type": "execute_result"
    }
   ],
   "source": [
    "# 数组每个元素加 1\n",
    "a = np.add(1, np.arange(5))\n",
    "a"
   ]
  },
  {
   "cell_type": "code",
   "execution_count": 24,
   "id": "b2d06f72",
   "metadata": {},
   "outputs": [],
   "source": [
    "# 三角函数\n",
    "a = np.sin(3.14/2)\n",
    "b = np.cos(3.14/2)\n",
    "c = np.tan(3.14/2)"
   ]
  },
  {
   "cell_type": "code",
   "execution_count": 25,
   "id": "32dde10d",
   "metadata": {},
   "outputs": [
    {
     "name": "stdout",
     "output_type": "stream",
     "text": [
      "2.718281828459045 0.999896315728952\n"
     ]
    }
   ],
   "source": [
    "# 指数，对数\n",
    "a = np.exp(1)  \n",
    "b = np.log(2.718)  # 底是e = ln()\n",
    "print(a,b)"
   ]
  },
  {
   "cell_type": "markdown",
   "id": "56222e32",
   "metadata": {},
   "source": [
    "### 聚合函数"
   ]
  },
  {
   "cell_type": "code",
   "execution_count": 26,
   "id": "be18f085",
   "metadata": {},
   "outputs": [
    {
     "name": "stdout",
     "output_type": "stream",
     "text": [
      "[[0 1 2]\n",
      " [3 4 5]\n",
      " [6 7 8]]\n"
     ]
    },
    {
     "data": {
      "text/plain": [
       "array([3., 4., 5.])"
      ]
     },
     "execution_count": 26,
     "metadata": {},
     "output_type": "execute_result"
    }
   ],
   "source": [
    "# 求均值\n",
    "a = np.arange(9).reshape(3,3)\n",
    "print(a)\n",
    "b = np.mean(a,axis=0)\n",
    "b"
   ]
  },
  {
   "cell_type": "code",
   "execution_count": 27,
   "id": "060b2f8e",
   "metadata": {},
   "outputs": [
    {
     "data": {
      "text/plain": [
       "array([ 9, 12, 15])"
      ]
     },
     "execution_count": 27,
     "metadata": {},
     "output_type": "execute_result"
    }
   ],
   "source": [
    "# 求和\n",
    "b = np.sum(a,axis=0)\n",
    "b"
   ]
  },
  {
   "cell_type": "code",
   "execution_count": 28,
   "id": "a7b4faa7",
   "metadata": {},
   "outputs": [
    {
     "data": {
      "text/plain": [
       "array([3., 4., 5.])"
      ]
     },
     "execution_count": 28,
     "metadata": {},
     "output_type": "execute_result"
    }
   ],
   "source": [
    "# 计算数组的中位数（排序后位于中间的值），对异常值不敏感。\n",
    "b = np.median(a,axis=0)\n",
    "b"
   ]
  },
  {
   "cell_type": "code",
   "execution_count": 29,
   "id": "5ef5c424",
   "metadata": {},
   "outputs": [
    {
     "data": {
      "text/plain": [
       "array([2.44948974, 2.44948974, 2.44948974])"
      ]
     },
     "execution_count": 29,
     "metadata": {},
     "output_type": "execute_result"
    }
   ],
   "source": [
    "# 计算标准差（方差的平方根），与原始数据单位一致，更直观反映离散程度。\n",
    "b = np.std(a,axis=0)\n",
    "b"
   ]
  },
  {
   "cell_type": "code",
   "execution_count": 30,
   "id": "9f11718f",
   "metadata": {},
   "outputs": [
    {
     "data": {
      "text/plain": [
       "array([6., 6., 6.])"
      ]
     },
     "execution_count": 30,
     "metadata": {},
     "output_type": "execute_result"
    }
   ],
   "source": [
    "# 计算方差（数据与均值差异的平方的平均值），衡量数据波动程度\n",
    "b = np.var(a,axis=0)\n",
    "b"
   ]
  },
  {
   "cell_type": "code",
   "execution_count": 31,
   "id": "08eb764e",
   "metadata": {},
   "outputs": [
    {
     "data": {
      "text/plain": [
       "array([1, 2, 3])"
      ]
     },
     "execution_count": 31,
     "metadata": {},
     "output_type": "execute_result"
    }
   ],
   "source": [
    "# 去重\n",
    "a = np.unique([1,2,2,3,3,3])\n",
    "a"
   ]
  },
  {
   "cell_type": "markdown",
   "id": "4f4b1009",
   "metadata": {},
   "source": [
    "### 特殊值"
   ]
  },
  {
   "cell_type": "code",
   "execution_count": 32,
   "id": "66632fbc",
   "metadata": {},
   "outputs": [
    {
     "name": "stdout",
     "output_type": "stream",
     "text": [
      "2.718281828459045\n",
      "3.141592653589793\n"
     ]
    }
   ],
   "source": [
    "print(np.e)\n",
    "print(np.pi)"
   ]
  },
  {
   "cell_type": "markdown",
   "id": "2d2c25e4",
   "metadata": {},
   "source": [
    "### 4.线性代数函数"
   ]
  },
  {
   "cell_type": "code",
   "execution_count": 33,
   "id": "71f8d9e5",
   "metadata": {},
   "outputs": [
    {
     "data": {
      "text/plain": [
       "array([[ 7, 10],\n",
       "       [15, 22]])"
      ]
     },
     "execution_count": 33,
     "metadata": {},
     "output_type": "execute_result"
    }
   ],
   "source": [
    "# 矩阵点乘\n",
    "a = np.dot([[1,2],[3,4]], [[1,2],[3,4]])\n",
    "a"
   ]
  },
  {
   "cell_type": "code",
   "execution_count": 34,
   "id": "3990b664",
   "metadata": {},
   "outputs": [
    {
     "data": {
      "text/plain": [
       "array([[ 7, 10],\n",
       "       [15, 22]])"
      ]
     },
     "execution_count": 34,
     "metadata": {},
     "output_type": "execute_result"
    }
   ],
   "source": [
    "a =np.array([[1,2],[3,4]])\n",
    "b = a @ a\n",
    "b"
   ]
  },
  {
   "cell_type": "code",
   "execution_count": 35,
   "id": "2caa0d03",
   "metadata": {},
   "outputs": [
    {
     "data": {
      "text/plain": [
       "array([[-2. ,  1. ],\n",
       "       [ 1.5, -0.5]])"
      ]
     },
     "execution_count": 35,
     "metadata": {},
     "output_type": "execute_result"
    }
   ],
   "source": [
    "# 矩阵求逆\n",
    "c = np.linalg.inv(a)\n",
    "c"
   ]
  },
  {
   "cell_type": "code",
   "execution_count": 36,
   "id": "db294de8",
   "metadata": {},
   "outputs": [],
   "source": [
    "# 求矩阵的特征值和特征矩阵\n",
    "eigVals, eigVects = np.linalg.eig(np.eye(2))"
   ]
  },
  {
   "cell_type": "code",
   "execution_count": 37,
   "id": "48266f77",
   "metadata": {},
   "outputs": [
    {
     "data": {
      "text/plain": [
       "array([[-0.40455358, -0.9145143 ],\n",
       "       [-0.9145143 ,  0.40455358]])"
      ]
     },
     "execution_count": 37,
     "metadata": {},
     "output_type": "execute_result"
    }
   ],
   "source": [
    "# 求矩阵的奇异值分解\n",
    "U, S, Vh = np.linalg.svd(a, full_matrices=True)\n",
    "U"
   ]
  },
  {
   "cell_type": "markdown",
   "id": "dd7f954f",
   "metadata": {},
   "source": [
    "#### **一、皮尔森相关系数（Pearson Correlation Coefficient）**\n",
    "\n",
    "衡量两个变量 $X$ 和 $Y$ 之间的 **线性相关程度**，取值范围为 $[-1, 1]$：\n",
    "- $1$：完全正相关\n",
    "- $-1$：完全负相关\n",
    "- $0$：无线性相关\n",
    "\n",
    "$$\n",
    "\\rho_{X,Y} = \\frac{\\text{cov}(X,Y)}{\\sigma_X \\cdot \\sigma_Y}\n",
    "$$\n",
    "其中：\n",
    "- $\\text{cov}(X,Y)$ 是 $X$ 和 $Y$ 的协方差\n",
    "- $\\sigma_X$ 和 $\\sigma_Y$ 是 $X$ 和 $Y$ 的标准差\n",
    "\n",
    "\n",
    "\n",
    "#### **二、协方差（Covariance）**\n",
    "\n",
    "衡量两个变量 $X$ 和 $Y$ 的 **共同变化趋势**：\n",
    "- 正值：变量同向变化\n",
    "- 负值：变量反向变化\n",
    "\n",
    "$$\n",
    "\\text{cov}(X,Y) = \\frac{1}{n-1} \\sum_{i=1}^n (x_i - \\bar{x})(y_i - \\bar{y})\n",
    "$$\n",
    "- **注意**：分母为 $n-1$ 时是样本协方差（无偏估计），分母为 $n$ 时为总体协方差。\n",
    "\n",
    "\n",
    "\n",
    "### **四、关键区别**\n",
    "| 指标                | 意义                           | 范围          | 标准化 |\n",
    "|---------------------|--------------------------------|---------------|--------|\n",
    "| **协方差**          | 变量共同变化趋势的强度         | $(-\\infty, +\\infty)$ | 否     |\n",
    "| **皮尔森相关系数**  | 标准化后的协方差（无量纲）     | $[-1, 1]$   | 是     |\n",
    "\n",
    "\n",
    "\n"
   ]
  },
  {
   "cell_type": "code",
   "execution_count": 38,
   "id": "ab81a269",
   "metadata": {},
   "outputs": [
    {
     "data": {
      "text/plain": [
       "array([[2., 2.],\n",
       "       [2., 2.]])"
      ]
     },
     "execution_count": 38,
     "metadata": {},
     "output_type": "execute_result"
    }
   ],
   "source": [
    "# 计算协方差矩阵\n",
    "np.cov(a, rowvar=0)  # rowvar=False 表示每列是一个特征"
   ]
  },
  {
   "cell_type": "markdown",
   "id": "cdbe4bab",
   "metadata": {},
   "source": [
    "### 5.统计函数"
   ]
  },
  {
   "cell_type": "code",
   "execution_count": 39,
   "id": "07a19bcb",
   "metadata": {},
   "outputs": [
    {
     "data": {
      "text/plain": [
       "np.int64(0)"
      ]
     },
     "execution_count": 39,
     "metadata": {},
     "output_type": "execute_result"
    }
   ],
   "source": [
    "# min ,max\n",
    "a = np.arange(10)\n",
    "b = np.min(a)\n",
    "b"
   ]
  },
  {
   "cell_type": "code",
   "execution_count": 40,
   "id": "250cef31",
   "metadata": {},
   "outputs": [
    {
     "data": {
      "text/plain": [
       "np.int64(9)"
      ]
     },
     "execution_count": 40,
     "metadata": {},
     "output_type": "execute_result"
    }
   ],
   "source": [
    "# argmin , argmax\n",
    "b = np.argmax(a)\n",
    "b"
   ]
  },
  {
   "cell_type": "code",
   "execution_count": 41,
   "id": "1853a48b",
   "metadata": {},
   "outputs": [
    {
     "data": {
      "text/plain": [
       "array([[ 1.,  1.],\n",
       "       [ 2.,  1.],\n",
       "       [ 3.,  1.],\n",
       "       [ 4.,  1.],\n",
       "       [ 5.,  1.],\n",
       "       [ 6.,  1.],\n",
       "       [ 7.,  1.],\n",
       "       [ 8.,  1.],\n",
       "       [ 9.,  1.],\n",
       "       [10.,  1.],\n",
       "       [ 1.,  2.],\n",
       "       [ 2.,  2.],\n",
       "       [ 3.,  2.],\n",
       "       [ 4.,  2.],\n",
       "       [ 5.,  2.],\n",
       "       [ 6.,  2.],\n",
       "       [ 7.,  2.],\n",
       "       [ 8.,  2.],\n",
       "       [ 9.,  2.],\n",
       "       [10.,  2.],\n",
       "       [ 1.,  3.],\n",
       "       [ 2.,  3.],\n",
       "       [ 3.,  3.],\n",
       "       [ 4.,  3.],\n",
       "       [ 5.,  3.],\n",
       "       [ 6.,  3.],\n",
       "       [ 7.,  3.],\n",
       "       [ 8.,  3.],\n",
       "       [ 9.,  3.],\n",
       "       [10.,  3.],\n",
       "       [ 1.,  4.],\n",
       "       [ 2.,  4.],\n",
       "       [ 3.,  4.],\n",
       "       [ 4.,  4.],\n",
       "       [ 5.,  4.],\n",
       "       [ 6.,  4.],\n",
       "       [ 7.,  4.],\n",
       "       [ 8.,  4.],\n",
       "       [ 9.,  4.],\n",
       "       [10.,  4.],\n",
       "       [ 1.,  5.],\n",
       "       [ 2.,  5.],\n",
       "       [ 3.,  5.],\n",
       "       [ 4.,  5.],\n",
       "       [ 5.,  5.],\n",
       "       [ 6.,  5.],\n",
       "       [ 7.,  5.],\n",
       "       [ 8.,  5.],\n",
       "       [ 9.,  5.],\n",
       "       [10.,  5.],\n",
       "       [ 1.,  6.],\n",
       "       [ 2.,  6.],\n",
       "       [ 3.,  6.],\n",
       "       [ 4.,  6.],\n",
       "       [ 5.,  6.],\n",
       "       [ 6.,  6.],\n",
       "       [ 7.,  6.],\n",
       "       [ 8.,  6.],\n",
       "       [ 9.,  6.],\n",
       "       [10.,  6.],\n",
       "       [ 1.,  7.],\n",
       "       [ 2.,  7.],\n",
       "       [ 3.,  7.],\n",
       "       [ 4.,  7.],\n",
       "       [ 5.,  7.],\n",
       "       [ 6.,  7.],\n",
       "       [ 7.,  7.],\n",
       "       [ 8.,  7.],\n",
       "       [ 9.,  7.],\n",
       "       [10.,  7.],\n",
       "       [ 1.,  8.],\n",
       "       [ 2.,  8.],\n",
       "       [ 3.,  8.],\n",
       "       [ 4.,  8.],\n",
       "       [ 5.,  8.],\n",
       "       [ 6.,  8.],\n",
       "       [ 7.,  8.],\n",
       "       [ 8.,  8.],\n",
       "       [ 9.,  8.],\n",
       "       [10.,  8.],\n",
       "       [ 1.,  9.],\n",
       "       [ 2.,  9.],\n",
       "       [ 3.,  9.],\n",
       "       [ 4.,  9.],\n",
       "       [ 5.,  9.],\n",
       "       [ 6.,  9.],\n",
       "       [ 7.,  9.],\n",
       "       [ 8.,  9.],\n",
       "       [ 9.,  9.],\n",
       "       [10.,  9.],\n",
       "       [ 1., 10.],\n",
       "       [ 2., 10.],\n",
       "       [ 3., 10.],\n",
       "       [ 4., 10.],\n",
       "       [ 5., 10.],\n",
       "       [ 6., 10.],\n",
       "       [ 7., 10.],\n",
       "       [ 8., 10.],\n",
       "       [ 9., 10.],\n",
       "       [10., 10.]])"
      ]
     },
     "execution_count": 41,
     "metadata": {},
     "output_type": "execute_result"
    }
   ],
   "source": [
    "# 生成坐标矩阵\n",
    "a = np.linspace(1 , 10 , num =10)\n",
    "b = np.linspace(1 , 10 , num =10)\n",
    "x,y = np.meshgrid(a,b)\n",
    "m = np.c_[x.ravel(),y.ravel()]\n",
    "m"
   ]
  },
  {
   "cell_type": "markdown",
   "id": "61d95004",
   "metadata": {},
   "source": [
    "### 6. 随机数生成"
   ]
  },
  {
   "cell_type": "code",
   "execution_count": null,
   "id": "8f01095d",
   "metadata": {},
   "outputs": [
    {
     "data": {
      "text/plain": [
       "array([0.56651564, 0.50041994, 0.9331005 ])"
      ]
     },
     "execution_count": 48,
     "metadata": {},
     "output_type": "execute_result"
    }
   ],
   "source": [
    "# 均匀分布 [0,1)\n",
    "a = np.random.rand(3)\n",
    "a"
   ]
  },
  {
   "cell_type": "code",
   "execution_count": null,
   "id": "51516f7f",
   "metadata": {},
   "outputs": [
    {
     "data": {
      "text/plain": [
       "array([ 0.94764518, -1.42152669,  0.87051846])"
      ]
     },
     "execution_count": 47,
     "metadata": {},
     "output_type": "execute_result"
    }
   ],
   "source": [
    "# 正态分布 （均值为 0，标准差为 1）\n",
    "a = np.random.randn(3)\n",
    "a"
   ]
  },
  {
   "cell_type": "code",
   "execution_count": 49,
   "id": "89568836",
   "metadata": {},
   "outputs": [
    {
     "data": {
      "text/plain": [
       "8"
      ]
     },
     "execution_count": 49,
     "metadata": {},
     "output_type": "execute_result"
    }
   ],
   "source": [
    "# 随机整数\n",
    "a  = np.random.randint(1,10)\n",
    "a"
   ]
  },
  {
   "cell_type": "code",
   "execution_count": 50,
   "id": "33b99162",
   "metadata": {},
   "outputs": [
    {
     "data": {
      "text/plain": [
       "array([2, 1])"
      ]
     },
     "execution_count": 50,
     "metadata": {},
     "output_type": "execute_result"
    }
   ],
   "source": [
    "# 随机采样\n",
    "a = np.random.choice([1,2,3] , size = 2)\n",
    "a"
   ]
  },
  {
   "cell_type": "markdown",
   "id": "ebe3cbce",
   "metadata": {},
   "source": [
    "### 7. 数据类型操作"
   ]
  },
  {
   "cell_type": "code",
   "execution_count": 52,
   "id": "0a671e91",
   "metadata": {},
   "outputs": [
    {
     "data": {
      "text/plain": [
       "array([1, 2, 3])"
      ]
     },
     "execution_count": 52,
     "metadata": {},
     "output_type": "execute_result"
    }
   ],
   "source": [
    "# 转换数组数据类型\n",
    "a = np.array([1.7, 2.2 , 3.3]).astype(int)\n",
    "a"
   ]
  },
  {
   "cell_type": "code",
   "execution_count": 55,
   "id": "36dc4474",
   "metadata": {},
   "outputs": [
    {
     "data": {
      "text/plain": [
       "array([2., 2., 3.])"
      ]
     },
     "execution_count": 55,
     "metadata": {},
     "output_type": "execute_result"
    }
   ],
   "source": [
    "# round() 四舍五入\n",
    "a = np.array([1.7, 2.2 , 3.3])\n",
    "b = np.round(a)\n",
    "b"
   ]
  },
  {
   "cell_type": "code",
   "execution_count": null,
   "id": "55c42234",
   "metadata": {},
   "outputs": [
    {
     "data": {
      "text/plain": [
       "array([2., 3., 4.])"
      ]
     },
     "execution_count": 54,
     "metadata": {},
     "output_type": "execute_result"
    }
   ],
   "source": [
    "# ceil() 向上取整\n",
    "b = np.ceil(a)\n",
    "b"
   ]
  },
  {
   "cell_type": "code",
   "execution_count": 56,
   "id": "889601b2",
   "metadata": {},
   "outputs": [
    {
     "data": {
      "text/plain": [
       "array([1., 2., 3.])"
      ]
     },
     "execution_count": 56,
     "metadata": {},
     "output_type": "execute_result"
    }
   ],
   "source": [
    "# floor() 向下取整\n",
    "b = np.floor(a)\n",
    "b"
   ]
  },
  {
   "cell_type": "markdown",
   "id": "ed58b70b",
   "metadata": {},
   "source": [
    "### 8. 副本与视图"
   ]
  },
  {
   "cell_type": "markdown",
   "id": "5d92b67f",
   "metadata": {},
   "source": [
    "#### 拷贝"
   ]
  },
  {
   "cell_type": "code",
   "execution_count": null,
   "id": "45a67742",
   "metadata": {},
   "outputs": [
    {
     "data": {
      "text/plain": [
       "array([1.7, 2.2, 3.3])"
      ]
     },
     "execution_count": 61,
     "metadata": {},
     "output_type": "execute_result"
    }
   ],
   "source": [
    "# 深拷贝， 创建副本，不改变原数组\n",
    "a = np.array([1.7, 2.2 , 3.3])\n",
    "b = a.copy()\n",
    "a[2] = 0\n",
    "b"
   ]
  },
  {
   "cell_type": "code",
   "execution_count": null,
   "id": "bd95b890",
   "metadata": {},
   "outputs": [
    {
     "data": {
      "text/plain": [
       "array([1.7, 2.2, 0. ])"
      ]
     },
     "execution_count": 63,
     "metadata": {},
     "output_type": "execute_result"
    }
   ],
   "source": [
    "#  浅拷贝， 拷贝对象元素的引用，创建的是视图\n",
    "a = np.array([1.7, 2.2 , 3.3])\n",
    "c = a[:]\n",
    "a[2] = 0\n",
    "c"
   ]
  },
  {
   "cell_type": "markdown",
   "id": "019d7e53",
   "metadata": {},
   "source": [
    "### 9. 洗牌操作"
   ]
  },
  {
   "cell_type": "code",
   "execution_count": null,
   "id": "fad81c9e",
   "metadata": {},
   "outputs": [
    {
     "name": "stdout",
     "output_type": "stream",
     "text": [
      "原数组： [1 2 3 4]\n",
      "洗牌结果： [3 2 1 4]\n"
     ]
    }
   ],
   "source": [
    "# `np.random.permutation`: 随机排列数组,返回新数组\n",
    "arr = np.array([1, 2, 3, 4])\n",
    "res = np.random.permutation(arr)  # 示例输出 array([3, 1, 4, 2])\n",
    "print(\"原数组：\" , arr)\n",
    "print(\"洗牌结果：\",res)"
   ]
  },
  {
   "cell_type": "code",
   "execution_count": 69,
   "id": "ec728e09",
   "metadata": {},
   "outputs": [
    {
     "name": "stdout",
     "output_type": "stream",
     "text": [
      "原数组： [4 1 3 2]\n"
     ]
    }
   ],
   "source": [
    "# `np.random.shuffle` :会原地修改原数组,无返回值\n",
    "arr = np.array([1, 2, 3, 4])\n",
    "np.random.shuffle(arr) \n",
    "print(\"原数组：\" , arr)"
   ]
  },
  {
   "cell_type": "code",
   "execution_count": null,
   "id": "e2a90dec",
   "metadata": {},
   "outputs": [
    {
     "name": "stdout",
     "output_type": "stream",
     "text": [
      "[[1 2]\n",
      " [7 8]\n",
      " [6 3]]\n",
      "[1 3 2]\n"
     ]
    }
   ],
   "source": [
    "\"\"\"清洗数据操作\n",
    "    因为清洗数据时，需要清洗特征和对应标签两个数组,\n",
    "    不能使用np.random.shuffle对两组数据同时洗牌,\n",
    "    这样洗牌会导致样本与标签不对应！\n",
    "\"\"\"\n",
    "features = np.array([[1,2] ,[6,3] , [7,8], [12,24]])\n",
    "labels =np.array( [1,2,3,4])\n",
    "indices = np.random.permutation(len(features))\n",
    "shuffled_features = features[indices]\n",
    "shuffled_labels = labels[indices ]\n",
    "print(shuffled_features)\n",
    "print(shuffled_labels)\n"
   ]
  },
  {
   "cell_type": "markdown",
   "id": "d656a2a2",
   "metadata": {},
   "source": [
    "NumPy数组的高级索引（Fancy Indexing）功能。让我们逐步分析：\n",
    "\n",
    "1. **数组定义**：\n",
    "   - `a = np.array([3, 2, 1, 0])`：创建一个NumPy数组 `a`，包含索引值 `[3, 2, 1, 0]`。\n",
    "   - `b = np.array([1, 2, 3, 4])`：创建一个NumPy数组 `b`，元素为 `[1, 2, 3, 4]`。\n",
    "\n",
    "2. **索引操作**：\n",
    "   - `c = b[a]`：使用数组 `a` 中的值作为索引，从数组 `b` 中提取对应的元素。\n",
    "   - 索引规则：\n",
    "     - `a[0] = 3` → 提取 `b[3]`（值为4）\n",
    "     - `a[1] = 2` → 提取 `b[2]`（值为3）\n",
    "     - `a[2] = 1` → 提取 `b[1]`（值为2）\n",
    "     - `a[3] = 0` → 提取 `b[0]`（值为1）\n",
    "\n",
    "3. **结果**：\n",
    "   - `c` 将包含 `[4, 3, 2, 1]`，即按照 `a` 提供的索引顺序重组 `b` 的元素。\n",
    "\n",
    "**关键点**：\n",
    "- **高级索引**：允许用一个数组作为索引，提取目标数组的多个元素。\n",
    "- **索引顺序**：结果数组 `c` 的形状与索引数组 `a` 的形状一致。\n",
    "- **边界安全**：索引值必须在目标数组的有效范围内（此处 `a` 的值均为 `0-3`，与 `b` 的索引范围匹配）。\n"
   ]
  },
  {
   "cell_type": "code",
   "execution_count": 75,
   "id": "aa8fdb66",
   "metadata": {},
   "outputs": [
    {
     "data": {
      "text/plain": [
       "array([4, 3, 2, 1])"
      ]
     },
     "execution_count": 75,
     "metadata": {},
     "output_type": "execute_result"
    }
   ],
   "source": [
    "a = np.array([3,2,1,0])\n",
    "b = np.array([1,2,3,4])\n",
    "c =b[a]\n",
    "c"
   ]
  },
  {
   "cell_type": "markdown",
   "id": "cc380ace",
   "metadata": {},
   "source": [
    "### 10.排序操作"
   ]
  },
  {
   "cell_type": "code",
   "execution_count": null,
   "id": "d64bc6b6",
   "metadata": {},
   "outputs": [
    {
     "data": {
      "text/plain": [
       "array([1, 2, 3])"
      ]
     },
     "execution_count": 76,
     "metadata": {},
     "output_type": "execute_result"
    }
   ],
   "source": [
    "# sort() \n",
    "a = np.sort([3,1,2])\n",
    "a"
   ]
  },
  {
   "cell_type": "code",
   "execution_count": null,
   "id": "ee1e8824",
   "metadata": {},
   "outputs": [
    {
     "data": {
      "text/plain": [
       "array([1, 2, 0])"
      ]
     },
     "execution_count": 77,
     "metadata": {},
     "output_type": "execute_result"
    }
   ],
   "source": [
    "# argsort() 返回排序后的索引\n",
    "a = np.argsort([3,1,2])\n",
    "a"
   ]
  },
  {
   "cell_type": "code",
   "execution_count": null,
   "id": "5e19f7e4",
   "metadata": {},
   "outputs": [
    {
     "data": {
      "text/plain": [
       "np.int64(2)"
      ]
     },
     "execution_count": 80,
     "metadata": {},
     "output_type": "execute_result"
    }
   ],
   "source": [
    "# searchgsort() 有序数组中查找元素的索引\n",
    "a  = np.searchsorted([1,2,3,4,5] , 3)\n",
    "a"
   ]
  }
 ],
 "metadata": {
  "kernelspec": {
   "display_name": "python39",
   "language": "python",
   "name": "python3"
  },
  "language_info": {
   "codemirror_mode": {
    "name": "ipython",
    "version": 3
   },
   "file_extension": ".py",
   "mimetype": "text/x-python",
   "name": "python",
   "nbconvert_exporter": "python",
   "pygments_lexer": "ipython3",
   "version": "3.9.20"
  }
 },
 "nbformat": 4,
 "nbformat_minor": 5
}
