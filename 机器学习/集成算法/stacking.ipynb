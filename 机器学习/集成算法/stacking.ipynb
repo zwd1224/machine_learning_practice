{
 "cells": [
  {
   "cell_type": "code",
   "execution_count": 3,
   "metadata": {},
   "outputs": [],
   "source": [
    "from sklearn.datasets import load_iris\n",
    "from sklearn.model_selection import train_test_split, KFold\n",
    "from sklearn.ensemble import RandomForestClassifier\n",
    "from sklearn.svm import SVC\n",
    "from sklearn.linear_model import LogisticRegression\n",
    "from sklearn.neighbors import KNeighborsClassifier\n",
    "import numpy as np\n"
   ]
  },
  {
   "cell_type": "code",
   "execution_count": 4,
   "metadata": {},
   "outputs": [],
   "source": [
    "# 加载数据\n",
    "iris = load_iris()\n",
    "X, y = iris.data, iris.target\n",
    "\n",
    "# 划分训练集和测试集\n",
    "X_train, X_test, y_train, y_test = train_test_split(X, y, test_size=0.2, random_state=42)"
   ]
  },
  {
   "cell_type": "code",
   "execution_count": 5,
   "metadata": {},
   "outputs": [],
   "source": [
    "# 第一层基学习器\n",
    "base_models = [\n",
    "    ('rf', RandomForestClassifier(n_estimators=10, random_state=42)),\n",
    "    ('svm', SVC(kernel='linear', probability=True, random_state=42)),\n",
    "    ('knn', KNeighborsClassifier(n_neighbors=3))\n",
    "]\n",
    "\n",
    "# 第二层元学习器\n",
    "meta_model = LogisticRegression()\n",
    "# 创建存储基模型预测结果的数组\n",
    "meta_features = np.zeros((X_train.shape[0], len(base_models)))\n"
   ]
  },
  {
   "cell_type": "code",
   "execution_count": 6,
   "metadata": {},
   "outputs": [
    {
     "name": "stdout",
     "output_type": "stream",
     "text": [
      "Stacking模型准确率：0.7333\n"
     ]
    }
   ],
   "source": [
    "# 使用5折交叉验证生成元特征\n",
    "kf = KFold(n_splits=5, shuffle=True, random_state=42)\n",
    "\n",
    "for fold, (train_idx, val_idx) in enumerate(kf.split(X_train)):\n",
    "    # 划分训练集和验证集\n",
    "    X_train_fold, X_val_fold = X_train[train_idx], X_train[val_idx]\n",
    "    y_train_fold, y_val_fold = y_train[train_idx], y_train[val_idx]\n",
    "    \n",
    "    # 训练基模型并生成预测\n",
    "    for model_idx, (name, model) in enumerate(base_models):\n",
    "        model.fit(X_train_fold, y_train_fold)\n",
    "        preds = model.predict_proba(X_val_fold)  # 使用概率作为特征\n",
    "        meta_features[val_idx, model_idx] = preds[:, 1]  # 取正类的概率（适用于二分类）\n",
    "\n",
    "# 训练元模型\n",
    "meta_model.fit(meta_features, y_train)\n",
    "\n",
    "# 在测试集上评估\n",
    "test_meta_features = np.zeros((X_test.shape[0], len(base_models)))\n",
    "for model_idx, (name, model) in enumerate(base_models):\n",
    "    model.fit(X_train, y_train)  # 在整个训练集上重新训练\n",
    "    test_preds = model.predict_proba(X_test)\n",
    "    test_meta_features[:, model_idx] = test_preds[:, 1]\n",
    "\n",
    "# 最终预测\n",
    "final_predictions = meta_model.predict(test_meta_features)\n",
    "accuracy = np.mean(final_predictions == y_test)\n",
    "print(f\"Stacking模型准确率：{accuracy:.4f}\")"
   ]
  }
 ],
 "metadata": {
  "kernelspec": {
   "display_name": "python39",
   "language": "python",
   "name": "python3"
  },
  "language_info": {
   "codemirror_mode": {
    "name": "ipython",
    "version": 3
   },
   "file_extension": ".py",
   "mimetype": "text/x-python",
   "name": "python",
   "nbconvert_exporter": "python",
   "pygments_lexer": "ipython3",
   "version": "3.9.20"
  }
 },
 "nbformat": 4,
 "nbformat_minor": 2
}
