{
 "cells": [
  {
   "cell_type": "markdown",
   "metadata": {},
   "source": [
    "#####  k_means算法\n",
    "\n",
    " **1. 初始化质心**\n",
    "- **输入参数**：设定簇的数量 **K**。\n",
    "- **选择初始质心**：随机从数据集中选取K个点作为初始质心（也可用改进方法如K-means++优化初始化）。\n",
    "\n",
    " **2. 分配数据点到簇**\n",
    "- **计算距离**：对每个数据点，计算其到所有质心的距离（通常用**欧氏距离**）。\n",
    "- **划分簇**：将每个数据点分配到距离最近的质心对应的簇中。\n",
    "\n",
    "**3. 更新质心位置**\n",
    "- **重新计算质心**：对每个簇，计算其所有数据点的均值，将该均值作为新的质心。\n",
    "  $$\n",
    "  \\text{质心坐标} = \\frac{1}{|C_k|} \\sum_{x_i \\in C_k} x_i\n",
    "  $$\n",
    "  其中 $C_k$是第k个簇的数据点集合。\n",
    "**4. 迭代终止判断**\n",
    "- **终止条件**：\n",
    "  - 质心的位置不再变化（或变化量小于预设阈值）。\n",
    "  - 达到最大迭代次数。\n",
    "  - 簇的分配不再改变。\n",
    "- **循环执行**：若未满足终止条件，返回步骤2继续迭代。\n",
    "\n",
    "优化目标：\n",
    "$$\n",
    "J = \\sum_{k=1}^{K} \\sum_{x_i \\in C_k} \\| x_i - \\mu_k \\|^2\n",
    "$$\n"
   ]
  },
  {
   "cell_type": "code",
   "execution_count": 1,
   "metadata": {},
   "outputs": [],
   "source": [
    "import numpy as np\n",
    "\n",
    "class kmeans:\n",
    "    def __init__(self,data,num_clusters):\n",
    "        self.data = data\n",
    "        self.num_clusters = num_clusters\n",
    "    def train(self , iterations):\n",
    "        centers = kmeans.center_init(self.data,self.num_clusters)\n",
    "    @staticmethod    \n",
    "    def center_init(data,num_clusters):\n",
    "        num_examples = data.shape[0]\n",
    "        random_ids = np.random.permutation(num_examples)\n",
    "        centers = data[random_ids[:num_clusters],:]\n",
    "        return centers\n"
   ]
  },
  {
   "cell_type": "code",
   "execution_count": null,
   "metadata": {},
   "outputs": [],
   "source": []
  },
  {
   "cell_type": "code",
   "execution_count": null,
   "metadata": {},
   "outputs": [],
   "source": []
  },
  {
   "cell_type": "code",
   "execution_count": null,
   "metadata": {},
   "outputs": [],
   "source": []
  },
  {
   "cell_type": "code",
   "execution_count": null,
   "metadata": {},
   "outputs": [],
   "source": []
  }
 ],
 "metadata": {
  "kernelspec": {
   "display_name": "python39",
   "language": "python",
   "name": "python3"
  },
  "language_info": {
   "codemirror_mode": {
    "name": "ipython",
    "version": 3
   },
   "file_extension": ".py",
   "mimetype": "text/x-python",
   "name": "python",
   "nbconvert_exporter": "python",
   "pygments_lexer": "ipython3",
   "version": "3.9.20"
  }
 },
 "nbformat": 4,
 "nbformat_minor": 2
}
