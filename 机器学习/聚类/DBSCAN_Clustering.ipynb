{
 "cells": [
  {
   "cell_type": "markdown",
   "metadata": {},
   "source": [
    "##### DBSCAN算法  (任意形状的簇)\n",
    "1. 无需预设簇数，可处理任意形状簇和噪声。\n",
    "2. 对参数 ε 和 MinPts 敏感，高维数据效果可能下降\n",
    "DBSCAN（Density-Based Spatial Clustering of Applications with Noise）是一种基于密度的聚类算法，能够发现任意形状的簇并有效识别噪声点。以下是其核心流程：\n",
    "\n",
    "**1. 参数设置**\n",
    "- **邻域半径（ε）**：定义点的邻域范围。\n",
    "- **最小样本数（MinPts）**：判定核心点的邻域内需包含的最少点数。\n",
    "\n",
    "**2. 核心概念定义**\n",
    "- **核心点（Core Point）**：若某点的 ε 邻域内至少有 `MinPts` 个点（包括自身），则为核心点。\n",
    "- **边界点（Border Point）**：非核心点，但位于某个核心点的 ε 邻域内。\n",
    "- **噪声点（Noise Point）**：既非核心点，也不属于任何核心点邻域的点。\n",
    "\n",
    "**3. 算法流程**\n",
    "**初始化**  \n",
    "   所有点标记为 **未访问（unvisited）**。\n",
    "**遍历所有点**  \n",
    "   对每个未访问的点 `p`，执行以下操作：\n",
    "   - **标记为已访问**。\n",
    "   - **计算 ε 邻域内的点数**，记为 `Nε(p)`。\n",
    "**判断核心点**  \n",
    "   - 若 `|Nε(p)| ≥ MinPts`：\n",
    "     - 创建一个新簇 `C`，将 `p` 加入 `C`。\n",
    "     - **扩展簇**：递归地将 `p` 的 ε 邻域内所有 **未访问点** 加入 `C`，并重复判断这些点是否为核心点以继续扩展。\n",
    "   - 若 `|Nε(p)| < MinPts`：\n",
    "     - 暂时标记 `p` 为 **噪声点**（后续可能被其他簇吸收为边界点）。\n",
    "**终止条件**  \n",
    "   重复步骤 2-3，直到所有点被访问。\n",
    "**噪声点处理**  \n",
    "   所有未被任何簇包含的点最终标记为噪声。\n",
    "\n",
    "\n",
    "\n",
    " **4. 关键机制**\n",
    "- **密度直达（Directly Density-Reachable）**：若 `q` 在 `p` 的 ε 邻域内且 `p` 是核心点，则 `q` 从 `p` 密度直达。\n",
    "- **密度可达（Density-Reachable）**：通过一系列密度直达关系连接的点。\n",
    "- **密度相连（Density-Connected）**：若存在点 `o`，使得 `p` 和 `q` 都从 `o` 密度可达，则 `p` 和 `q` 密度相连。\n",
    "\n",
    "\n"
   ]
  },
  {
   "cell_type": "code",
   "execution_count": null,
   "metadata": {},
   "outputs": [],
   "source": []
  },
  {
   "cell_type": "code",
   "execution_count": null,
   "metadata": {},
   "outputs": [],
   "source": []
  }
 ],
 "metadata": {
  "kernelspec": {
   "display_name": "python39",
   "language": "python",
   "name": "python3"
  },
  "language_info": {
   "codemirror_mode": {
    "name": "ipython",
    "version": 3
   },
   "file_extension": ".py",
   "mimetype": "text/x-python",
   "name": "python",
   "nbconvert_exporter": "python",
   "pygments_lexer": "ipython3",
   "version": "3.9.20"
  }
 },
 "nbformat": 4,
 "nbformat_minor": 2
}
