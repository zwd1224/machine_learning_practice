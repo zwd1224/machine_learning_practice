{
 "cells": [
  {
   "cell_type": "code",
   "execution_count": 1,
   "metadata": {},
   "outputs": [
    {
     "name": "stdout",
     "output_type": "stream",
     "text": [
      "Accuracy: 0.98\n"
     ]
    }
   ],
   "source": [
    "from sklearn.naive_bayes import GaussianNB\n",
    "from sklearn.datasets import load_iris\n",
    "from sklearn.model_selection import train_test_split\n",
    "\n",
    "data = load_iris()\n",
    "X_train, X_test, y_train, y_test = train_test_split(data.data, data.target, test_size=0.3)\n",
    "\n",
    "# 训练模型\n",
    "model = GaussianNB()\n",
    "model.fit(X_train, y_train)\n",
    "\n",
    "# 预测并评估\n",
    "accuracy = model.score(X_test, y_test)\n",
    "print(f\"Accuracy: {accuracy:.2f}\")\n"
   ]
  },
  {
   "cell_type": "markdown",
   "metadata": {},
   "source": [
    "# beyes 原理\n",
    "### **问题描述**\n",
    "假设某种罕见疾病的患病率为 **1%**（即人群中每100人约有1人患病）。  \n",
    "现有一种检测方法：  \n",
    "- **真阳性率**（患病者检测为阳性）为 **99%**；  \n",
    "- **假阳性率**（未患病者误检为阳性）为 **5%**。  \n",
    "\n",
    "**问题**：  \n",
    "若某人检测结果为阳性，他实际患病的概率是多少？\n",
    "\n",
    "### **解答步骤**\n",
    "1. **定义事件**：  \n",
    "   - $ A $：患病  \n",
    "   - $ B $：检测结果为阳性  \n",
    "\n",
    "2. **已知概率**：  \n",
    "   - **先验概率**（患病率）：$ P(A) = 0.01 $  \n",
    "   - **真阳性率**：$ P(B|A) = 0.99 $  \n",
    "   - **假阳性率**：$ P(B|\\neg A) = 0.05 $  \n",
    "   - **未患病率**：$ P(\\neg A) = 1 - P(A) = 0.99 $\n",
    "\n",
    "3. **计算全概率 $ P(B) $**：  \n",
    "   检测为阳性的总概率包括两部分：  \n",
    "   - 患病且检测为阳性的概率  \n",
    "   - 未患病但误检为阳性的概率  \n",
    "   $$\n",
    "   P(B) = P(B|A)P(A) + P(B|\\neg A)P(\\neg A) = 0.99 \\times 0.01 + 0.05 \\times 0.99 = 0.0099 + 0.0495 = 0.0594\n",
    "   $$\n",
    "\n",
    "4. **应用贝叶斯定理**：  \n",
    "   计算后验概率 $ P(A|B) $（即检测为阳性时实际患病的概率）：  \n",
    "   $$\n",
    "   P(A|B) = \\frac{P(B|A)P(A)}{P(B)} = \\frac{0.99 \\times 0.01}{0.0594} \\approx \\frac{0.0099}{0.0594} \\approx 0.1667\n",
    "   $$\n",
    "\n",
    "\n",
    "### **结果分析**\n",
    "- **结论**：即使检测结果为阳性，实际患病的概率仅为 **约16.67%**。  \n",
    "- **直观解释**：  \n",
    "  虽然检测方法看似准确（真阳性率99%），但由于疾病本身罕见（患病率1%），假阳性（未患病者误检为阳性）的数量远多于真阳性。  \n",
    "  例如，在10000人中：  \n",
    "  - 真阳性：$ 100 \\times 0.99 = 99 $人  \n",
    "  - 假阳性：$ 9900 \\times 0.05 = 495 $人  \n",
    "  阳性总人数：$ 99 + 495 = 594 $人，其中实际患病仅占 $ \\frac{99}{594} \\approx 16.67\\% $。\n",
    "  \n",
    "  ---\n"
   ]
  },
  {
   "cell_type": "markdown",
   "metadata": {},
   "source": [
    "# beyes应用：\n",
    "#### 1 拼写纠正\n",
    "- 输入 tha  \n",
    "- 计算 p1(the | tha)  p2(than | tha)  谁大\n",
    "- p1(the | tha) = p(tha| the) p(the) / p(tha)\n",
    "- p2(than | tha) = p(tha| than) p(than) / p(tha)\n",
    "\n",
    "#### 2.垃圾邮件分类\n",
    "\n",
    "\n",
    "\n",
    "**传统机器学习： 一切参数由数据决定**\n",
    "\n",
    "\n",
    "**贝叶斯思想： 数据加先验概率（以史为鉴）**"
   ]
  },
  {
   "cell_type": "code",
   "execution_count": null,
   "metadata": {},
   "outputs": [],
   "source": []
  }
 ],
 "metadata": {
  "kernelspec": {
   "display_name": "python39",
   "language": "python",
   "name": "python3"
  },
  "language_info": {
   "codemirror_mode": {
    "name": "ipython",
    "version": 3
   },
   "file_extension": ".py",
   "mimetype": "text/x-python",
   "name": "python",
   "nbconvert_exporter": "python",
   "pygments_lexer": "ipython3",
   "version": "3.9.20"
  }
 },
 "nbformat": 4,
 "nbformat_minor": 2
}
