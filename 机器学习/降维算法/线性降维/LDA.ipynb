{
 "cells": [
  {
   "cell_type": "markdown",
   "id": "c17b6d41",
   "metadata": {},
   "source": [
    "### 线性判别分析（LDA, Linear Discriminant Analysis）\n",
    "\n",
    "- 有监督方法，最大化类间距离，最小化类内距离，适用于分类任务的特征提取。\n",
    "\n",
    "- 与PCA不同，LDA关注类别可分性。"
   ]
  },
  {
   "cell_type": "markdown",
   "id": "49efece7",
   "metadata": {},
   "source": [
    "\n",
    "---\n",
    "### **1. LDA 的算法步骤**\n",
    "LDA 的核心流程如下：\n",
    "1. **数据标准化**（可选，但通常需要去中心化）\n",
    "2. **计算每个类别的均值向量和全局均值**\n",
    "3. **计算类内散度矩阵（Within-Class Scatter Matrix）和类间散度矩阵（Between-Class Scatter Matrix）**\n",
    "4. **求解广义特征值问题**（计算矩阵 $ S_W^{-1}S_B $ 的特征值和特征向量）\n",
    "5. **选择前 k 个特征向量作为投影方向**\n",
    "6. **将数据投影到低维空间**\n",
    "\n",
    "---\n",
    "\n",
    "\n",
    "### **4. 关键代码解释**\n",
    "1. **数据标准化**  \n",
    "   - LDA 需要标准化以消除量纲影响，确保特征权重公平。\n",
    "\n",
    "2. **类内散度矩阵 $ S_W $**  \n",
    "   - 对每个类别的协方差矩阵求和：  \n",
    "     $$\n",
    "     S_W = \\sum_{i=1}^C \\sum_{x \\in \\text{Class }i} (x - \\mu_i)(x - \\mu_i)^T\n",
    "     $$\n",
    "   - 其中 $ \\mu_i $ 是第 $ i $ 类的均值。\n",
    "\n",
    "3. **类间散度矩阵 $ S_B $**  \n",
    "   - 计算每个类别与全局均值的差异加权：  \n",
    "     $$\n",
    "     S_B = \\sum_{i=1}^C n_i (\\mu_i - \\mu_{\\text{global}})(\\mu_i - \\mu_{\\text{global}})^T\n",
    "     $$\n",
    "   - 其中 $ n_i $ 是第 $ i $ 类的样本数。\n",
    "\n",
    "4. **广义特征值问题**  \n",
    "   - 求解 $ S_W^{-1}S_B $ 的特征向量，特征值越大表示投影方向对类别可分性贡献越大。\n",
    "\n",
    "5. **投影矩阵选择**  \n",
    "   - LDA 最多可降到 $ C-1 $ 维（$ C $ 为类别数），例如鸢尾花数据（3类）最多降维到2维。\n",
    "\n",
    "---\n",
    "\n",
    "#### **关键性质**\n",
    "- $ S_B $ 的秩（Rank）最大为 $ C-1 $。  \n",
    "  **原因**：所有类的均值向量 $ \\mu_1, \\mu_2, \\dots, \\mu_C $ 满足以下关系：  \n",
    "  $$\n",
    "  \\sum_{i=1}^C n_i (\\mu_i - \\mu_{\\text{global}}) = 0\n",
    "  $$  \n",
    "  即这些均值向量之间存在一个线性约束，导致 $ S_B $ 的秩最大为 $ C-1 $。\n",
    "\n",
    "---\n",
    "\n",
    "#### **2. 求解最优投影方向**\n",
    "\n",
    "对目标函数 $ J(w) $ 求导并令导数为零：  \n",
    "$$\n",
    "\\frac{\\partial J(w)}{\\partial w} = \\frac{(S_B w)(w^T S_W w) - (S_W w)(w^T S_B w)}{(w^T S_W w)^2} = 0\n",
    "$$  \n",
    "化简后得到广义特征值问题：  \n",
    "$$\n",
    "S_B w = \\lambda S_W w\n",
    "$$  \n",
    "其中 $ \\lambda = \\frac{w^T S_B w}{w^T S_W w} $。  \n",
    "进一步可得：  \n",
    "$$\n",
    "S_W^{-1} S_B w = \\lambda w\n",
    "$$  \n",
    "最优解 $ w $ 是矩阵 $ S_W^{-1} S_B $ 的最大特征值对应的特征向量。\n",
    "\n",
    "---\n",
    "\n",
    "#### **3. 多类别推广**\n",
    "\n",
    "对于 $ C $ 个类别的问题，LDA需要找到 $ K $ 个投影方向（$ K \\leq C-1 $），组成投影矩阵 $ W = [w_1, w_2, ..., w_K] $。\n",
    "\n",
    "##### **重新定义散度矩阵**\n",
    "- **类内散度矩阵 $ S_W $**：  \n",
    "  $$\n",
    "  S_W = \\sum_{k=1}^C \\sum_{x \\in C_k} (x - \\mu_k)(x - \\mu_k)^T\n",
    "  $$\n",
    "  \n",
    "- **类间散度矩阵 $ S_B $**：  \n",
    "  $$\n",
    "  S_B = \\sum_{k=1}^C N_k (\\mu_k - \\mu_{\\text{global}})(\\mu_k - \\mu_{\\text{global}})^T\n",
    "  $$  \n",
    "  其中 $ \\mu_{\\text{global}} $ 是全局均值，$ N_k $ 是类别 $ C_k $ 的样本数。\n",
    "\n",
    "##### **优化目标**\n",
    "最大化投影后的类间散度与类内散度的比值：  \n",
    "$$\n",
    "J(W) = \\frac{\\text{tr}(W^T S_B W)}{\\text{tr}(W^T S_W W)}\n",
    "$$  \n",
    "通过求解广义特征值问题：  \n",
    "$$\n",
    "S_B W = \\lambda S_W W\n",
    "$$  \n",
    "投影矩阵 $ W $ 的列向量是 $ S_W^{-1} S_B $ 的前 $ K $ 个最大特征值对应的特征向量。\n",
    "\n",
    "\n",
    "\n",
    "\n",
    "\n",
    "\n",
    "---\n",
    "\n",
    "### **7. 注意事项**\n",
    "1. **矩阵可逆性**  \n",
    "   - 如果 $ S_W $ 是奇异矩阵（特征维度高且样本少），需添加正则化项：  \n",
    "     ```python\n",
    "     S_W += 1e-6 * np.eye(n_features)  # 正则化\n",
    "     ```\n",
    "\n",
    "2. **监督信息依赖**  \n",
    "   - LDA 必须使用标签信息，与 PCA 不同。\n",
    "\n",
    "3. **类别平衡性**  \n",
    "   - 如果类别样本数差异大，类间散度矩阵的权重可能不均衡。\n",
    "\n"
   ]
  },
  {
   "cell_type": "code",
   "execution_count": null,
   "id": "1d8b9966",
   "metadata": {},
   "outputs": [],
   "source": [
    "import numpy as np\n",
    "from sklearn.datasets import load_iris\n",
    "from sklearn.preprocessing import StandardScaler\n",
    "\n",
    "# 加载示例数据（鸢尾花数据集，3类，4个特征）\n",
    "data = load_iris()\n",
    "X = data.data\n",
    "y = data.target  # 标签信息（监督信息）\n",
    "\n",
    "# Step 1: 数据标准化（去中心化并缩放）\n",
    "scaler = StandardScaler()\n",
    "X_std = scaler.fit_transform(X)\n",
    "X_std.shape"
   ]
  },
  {
   "cell_type": "code",
   "execution_count": null,
   "id": "837035bb",
   "metadata": {},
   "outputs": [
    {
     "data": {
      "text/plain": [
       "[array([-1.01457897,  0.85326268, -1.30498732, -1.25489349]),\n",
       " array([ 0.11228223, -0.66143204,  0.28532388,  0.1667341 ]),\n",
       " array([ 0.90229674, -0.19183064,  1.01966344,  1.08815939])]"
      ]
     },
     "execution_count": 9,
     "metadata": {},
     "output_type": "execute_result"
    }
   ],
   "source": [
    "# Step 2: 计算每个类别的均值向量和全局均值\n",
    "classes = np.unique(y)  # 3 \n",
    "n_features = X_std.shape[1]  # 4\n",
    "mean_vectors = []\n",
    "for cls in classes:\n",
    "    mean_vectors.append(np.mean(X_std[y == cls], axis=0)) # 每个类别的不同特征均值\n",
    "global_mean = np.mean(X_std, axis=0)  # 每个特征的总均值\n",
    "mean_vectors\n"
   ]
  },
  {
   "cell_type": "code",
   "execution_count": null,
   "id": "0d07134c",
   "metadata": {},
   "outputs": [],
   "source": [
    "# Step 3: 计算类内散度矩阵 S_W 和类间散度矩阵 S_B\n",
    "S_W = np.zeros((n_features, n_features))  # 类内散度矩阵\n",
    "S_B = np.zeros((n_features, n_features))  # 类间散度矩阵\n",
    "# 计算类内散度矩阵 S_W\n",
    "for cls, mean_vec in zip(classes, mean_vectors):\n",
    "    class_scatter = np.cov(X_std[y == cls], rowvar=False) * (len(X_std[y == cls]) - 1)\n",
    "    S_W += class_scatter\n",
    "\n",
    "# 计算类间散度矩阵 S_B\n",
    "for cls, mean_vec in zip(classes, mean_vectors):\n",
    "    n_cls = len(X_std[y == cls])\n",
    "    mean_diff = (mean_vec - global_mean).reshape(n_features, 1)\n",
    "    S_B += n_cls * np.dot(mean_diff, mean_diff.T)\n"
   ]
  },
  {
   "cell_type": "code",
   "execution_count": null,
   "id": "ee28ff01",
   "metadata": {},
   "outputs": [],
   "source": [
    "# Step 4: 求解广义特征值问题 S_W^{-1} S_B\n",
    "eigen_values, eigen_vectors = np.linalg.eig(np.linalg.inv(S_W).dot(S_B))"
   ]
  },
  {
   "cell_type": "code",
   "execution_count": null,
   "id": "00b9b7d0",
   "metadata": {},
   "outputs": [],
   "source": [
    "# Step 5: 选择前 k 个特征向量（按特征值降序排序）\n",
    "k = 2  # LDA最多降到类别数-1（鸢尾花数据有3类，k=2）\n",
    "sorted_indices = np.argsort(eigen_values.real)[::-1]  # 降序排序\n",
    "topk_eigen_vectors = eigen_vectors[:, sorted_indices[:k]].real\n",
    "\n",
    "# Step 6: 将数据投影到低维空间\n",
    "X_lda = X_std.dot(topk_eigen_vectors)\n",
    "\n",
    "# 输出结果\n",
    "print(\"降维后的数据形状:\", X_lda.shape)\n",
    "print(\"前5个样本的降维结果:\\n\", X_lda[:5])"
   ]
  },
  {
   "cell_type": "code",
   "execution_count": 2,
   "id": "a41f483f",
   "metadata": {},
   "outputs": [
    {
     "name": "stdout",
     "output_type": "stream",
     "text": [
      "自定义 LDA 与 sklearn LDA 的差异: -2.26970750570612\n"
     ]
    }
   ],
   "source": [
    "from sklearn.discriminant_analysis import LinearDiscriminantAnalysis\n",
    "\n",
    "# 使用 sklearn 的 LDA\n",
    "sklearn_lda = LinearDiscriminantAnalysis(n_components=2)\n",
    "X_sklearn = sklearn_lda.fit_transform(X_std, y)  # LDA需要标签信息！\n",
    "\n",
    "# 对比结果（特征向量方向可能相反，但绝对值一致）\n",
    "print(\"自定义 LDA 与 sklearn LDA 的差异:\", np.mean(np.abs(X_lda) - np.abs(X_sklearn)))\n"
   ]
  },
  {
   "cell_type": "code",
   "execution_count": 3,
   "id": "9b019a91",
   "metadata": {},
   "outputs": [
    {
     "data": {
      "image/png": "[encoded data removed]",
      "text/plain": [
       "<Figure size 800x600 with 1 Axes>"
      ]
     },
     "metadata": {},
     "output_type": "display_data"
    }
   ],
   "source": [
    "import matplotlib.pyplot as plt\n",
    "# 可视化 LDA 降维效果\n",
    "plt.figure(figsize=(8, 6))\n",
    "colors = ['r', 'g', 'b']\n",
    "markers = ['o', 's', 'D']\n",
    "for cls, color, marker in zip(classes, colors, markers):\n",
    "    plt.scatter(\n",
    "        X_lda[y == cls, 0],\n",
    "        X_lda[y == cls, 1],\n",
    "        c=color,\n",
    "        marker=marker,\n",
    "        label=data.target_names[cls]\n",
    "    )\n",
    "plt.xlabel('LDA Component 1')\n",
    "plt.ylabel('LDA Component 2')\n",
    "plt.title('LDA Projection of IRIS Dataset')\n",
    "plt.legend()\n",
    "plt.show()"
   ]
  }
 ],
 "metadata": {
  "kernelspec": {
   "display_name": "python39",
   "language": "python",
   "name": "python3"
  },
  "language_info": {
   "codemirror_mode": {
    "name": "ipython",
    "version": 3
   },
   "file_extension": ".py",
   "mimetype": "text/x-python",
   "name": "python",
   "nbconvert_exporter": "python",
   "pygments_lexer": "ipython3",
   "version": "3.9.20"
  }
 },
 "nbformat": 4,
 "nbformat_minor": 5
}
