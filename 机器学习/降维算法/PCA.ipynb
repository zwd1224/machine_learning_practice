{
 "cells": [
  {
   "cell_type": "markdown",
   "metadata": {},
   "source": [
    "## PCA(主成分分析法)\n",
    "1. 什么是主成分\n",
    "- 数据的散度最大的维度"
   ]
  },
  {
   "cell_type": "markdown",
   "metadata": {},
   "source": [
    "## PCA的算法流程\n",
    "**例子：二维数据的主成分分析（PCA）降维到一维**\n",
    "1. 数据标准化\n",
    "假设我们有以下二维数据：\n",
    "$$X = \\begin{bmatrix}\n",
    "2.5 & 2.4 \\\\\n",
    "0.5 & 0.7 \\\\\n",
    "2.2 & 2.9 \\\\\n",
    "1.9 & 2.2 \\\\\n",
    "3.1 & 3.0 \\\\\n",
    "2.3 & 2.7 \\\\\n",
    "2 & 1.6 \\\\\n",
    "1 & 1.1 \\\\\n",
    "1.5 & 1.6 \\\\\n",
    "1.1 & 0.9\n",
    "\\end{bmatrix}$$\n",
    "首先，我们需要对数据进行标准化处理，即每个特征（列）减去其均值并除以其标准差。\n",
    "均值：$$\\mu_x = \\frac{1}{10} \\sum_{i=1}^{10} x_i = 2, \\quad \\mu_y = \\frac{1}{10} \\sum_{i=1}^{10} y_i = 2$$\n",
    "标准差：$$\\sigma_x = \\sqrt{\\frac{1}{10} \\sum_{i=1}^{10} (x_i - \\mu_x)^2}, \\quad \\sigma_y = \\sqrt{\\frac{1}{10} \\sum_{i=1}^{10} (y_i - \\mu_y)^2}$$\n",
    "标准化后的数据矩阵 $Z$ 为：\n",
    "$$Z = \\begin{bmatrix}\n",
    "\\frac{2.5 - 2}{\\sigma_x} & \\frac{2.4 - 2}{\\sigma_y} \\\\\n",
    "\\frac{0.5 - 2}{\\sigma_x} & \\frac{0.7 - 2}{\\sigma_y} \\\\\n",
    "\\vdots & \\vdots \\\\\n",
    "\\frac{1.1 - 2}{\\sigma_x} & \\frac{0.9 - 2}{\\sigma_y}\n",
    "\\end{bmatrix}$$\n",
    "由于具体计算标准差的过程较为繁琐，在此省略，但标准化后的数据应类似于：\n",
    "$$Z \\approx \\begin{bmatrix}\n",
    "0.5 & 0.2 \\\\\n",
    "-1.5 & -1.3 \\\\\n",
    "0.2 & 0.9 \\\\\n",
    "-0.3 & 0.2 \\\\\n",
    "1.1 & 1.0 \\\\\n",
    "0.3 & 0.7 \\\\\n",
    "0 & -1.2 \\\\\n",
    "-1 & -1.9 \\\\\n",
    "-0.5 & -1.2 \\\\\n",
    "-0.9 & -2.1\n",
    "\\end{bmatrix}$$\n",
    "\n",
    "2. 计算协方差矩阵\n",
    "协方差矩阵 $C$ 为：\n",
    "$$C = \\frac{1}{n-1} Z^T Z = \\begin{bmatrix}\n",
    "\\text{cov}(x,x) & \\text{cov}(x,y) \\\\\n",
    "\\text{cov}(y,x) & \\text{cov}(y,y)\n",
    "\\end{bmatrix}$$\n",
    "其中，$\\text{cov}(x,x)$ 和 $\\text{cov}(y,y)$ 分别是 $x$ 和 $y$ 的方差，$\\text{cov}(x,y)$ 和 $\\text{cov}(y,x)$ 是 $x$ 和 $y$ 的协方差。\n",
    " 3. 特征值分解\n",
    "对协方差矩阵 $C$ 进行特征值分解，得到特征值和特征向量。\n",
    "$$C = U \\Lambda U^T$$\n",
    "其中，$U$ 是特征向量组成的矩阵，$\\Lambda$ 是特征值组成的对角矩阵。\n",
    "4. 选择主成分\n",
    "选择最大的特征值对应的特征向量作为主成分。假设 $\\lambda_1$ 是最大的特征值，$u_1$ 是对应的特征向量。\n",
    "5. 数据投影\n",
    "将标准化后的数据 $Z$ 投影到主成分 $u_1$ 上，得到降维后的数据。\n",
    "$$Y = Z u_1$$\n",
    "其中，$Y$ 是降维后的数据向量。\n",
    " **具体计算**\n",
    "1. **标准化**：计算每个特征的均值和标准差，并对数据进行标准化。\n",
    "2. **协方差矩阵**：\n",
    "$$C = \\begin{bmatrix}\n",
    "0.61655556 & 0.61544444 \\\\\n",
    "0.61544444 & 0.71655556\n",
    "\\end{bmatrix}$$\n",
    "3. **特征值分解**：\n",
    "特征值：$\\lambda_1 = 1.28402771, \\lambda_2 = 0.04911111$\n",
    "特征向量：\n",
    "$$u_1 = \\begin{bmatrix}\n",
    "0.677873397 \\\\\n",
    "0.735178656\n",
    "\\end{bmatrix}, \\quad\n",
    "u_2 = \\begin{bmatrix}\n",
    "-0.735178656 \\\\\n",
    "0.677873397\n",
    "\\end{bmatrix}$$\n",
    "\n",
    "4. **数据投影**：\n",
    "使用主成分 $u_1$ 对数据进行投影，得到降维后的数据。\n",
    "\n",
    "由于具体计算过程涉及大量数值运算，这里仅展示了关键步骤和结果。在实际应用中，可以使用编程语言（如Python）中的PCA库（如scikit-learn）来自动完成这些计算。\n",
    "\n",
    "通过以上步骤，我们将二维数据成功地降维到了一维，同时保留了原始数据中的大部分信息。这个过程展示了主成分分析在降维方面的应用，并有助于理解其数学原理和计算过程。\n",
    "\n"
   ]
  },
  {
   "cell_type": "code",
   "execution_count": null,
   "metadata": {},
   "outputs": [
    {
     "data": {
      "image/png": "[encoded data removed]",
      "text/plain": [
       "<Figure size 640x480 with 1 Axes>"
      ]
     },
     "metadata": {},
     "output_type": "display_data"
    },
    {
     "name": "stdout",
     "output_type": "stream",
     "text": [
      "(10,)\n"
     ]
    }
   ],
   "source": [
    "import numpy as np\n",
    "import matplotlib.pyplot as plt\n",
    "import pandas as pd\n",
    "\n",
    "data = np.array([[32.50234527,31.70700585],\n",
    "        [53.42680403,68.77759598],\n",
    "        [61.53035803,62.5623823],\n",
    "        [47.47563963,71.54663223],\n",
    "        [59.81320787,87.23092513],\n",
    "        [55.14218841,78.21151827],\n",
    "        [52.21179669,79.64197305],\n",
    "        [39.29956669,59.17148932],\n",
    "        [48.10504169,75.3312423],\n",
    "        [52.55001444,71.30087989]])\n",
    "x_data = data[:,0]\n",
    "y_data = data[:,1]\n",
    "plt.scatter(x_data,y_data)\n",
    "plt.show()\n",
    "print(x_data.shape)\n"
   ]
  },
  {
   "cell_type": "code",
   "execution_count": 6,
   "metadata": {},
   "outputs": [],
   "source": [
    "# 中心化\n",
    "def zeroMean(dataMat):\n",
    "    # 按列求平均，即各个特征的平均\n",
    "    meanVal = np.mean(dataMat, axis=0) \n",
    "    newData = dataMat - meanVal\n",
    "    return newData, meanVal"
   ]
  },
  {
   "cell_type": "code",
   "execution_count": null,
   "metadata": {},
   "outputs": [
    {
     "data": {
      "text/plain": [
       "array([0, 1])"
      ]
     },
     "execution_count": 10,
     "metadata": {},
     "output_type": "execute_result"
    }
   ],
   "source": [
    "#求协方差矩阵\n",
    "newData,meanVal=zeroMean(data)  \n",
    "covMat = np.cov(newData, rowvar=0)  # rowvar=False 表示每列是一个特征\n",
    "\n",
    "#求矩阵的特征值和特征向量\n",
    "eigVals, eigVects = np.linalg.eig(covMat)\n",
    "\n",
    "#对特征值排序\n",
    "eigValIndice = np.argsort(eigVals)\n",
    "eigValIndice"
   ]
  },
  {
   "cell_type": "code",
   "execution_count": 15,
   "metadata": {},
   "outputs": [
    {
     "data": {
      "text/plain": [
       "(2, 1)"
      ]
     },
     "execution_count": 15,
     "metadata": {},
     "output_type": "execute_result"
    }
   ],
   "source": [
    "k = 1  # 将降维到一维\n",
    "#取最大的k个特征值下标\n",
    "n_eigValIndice = eigValIndice[-1:-(k+1):-1]\n",
    "\n",
    "#最大的k个特征值对应的特征向量\n",
    "n_eigVect = eigVects[:,n_eigValIndice]\n",
    "n_eigVect.shape\n",
    "# 特征向量的个数就代表降维后的数据维度\n"
   ]
  },
  {
   "cell_type": "code",
   "execution_count": 17,
   "metadata": {},
   "outputs": [
    {
     "data": {
      "image/png": "[encoded data removed]",
      "text/plain": [
       "<Figure size 640x480 with 1 Axes>"
      ]
     },
     "metadata": {},
     "output_type": "display_data"
    }
   ],
   "source": [
    "lowDDataMat = np.dot(newData,n_eigVect)\n",
    "reconMat =np.dot(lowDDataMat,n_eigVect.T) + meanVal\n",
    "\n",
    "\n",
    "# 重构的数据\n",
    "x_data = np.array(reconMat)[:,0]\n",
    "y_data = np.array(reconMat)[:,1]\n",
    "plt.scatter(x_data,y_data,c='r')\n",
    "plt.show()"
   ]
  },
  {
   "cell_type": "code",
   "execution_count": null,
   "metadata": {},
   "outputs": [],
   "source": []
  }
 ],
 "metadata": {
  "kernelspec": {
   "display_name": "python39",
   "language": "python",
   "name": "python3"
  },
  "language_info": {
   "codemirror_mode": {
    "name": "ipython",
    "version": 3
   },
   "file_extension": ".py",
   "mimetype": "text/x-python",
   "name": "python",
   "nbconvert_exporter": "python",
   "pygments_lexer": "ipython3",
   "version": "3.9.20"
  }
 },
 "nbformat": 4,
 "nbformat_minor": 2
}
